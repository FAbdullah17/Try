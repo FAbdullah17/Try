{
 "cells": [
  {
   "cell_type": "code",
   "execution_count": 5,
   "metadata": {},
   "outputs": [
    {
     "name": "stdout",
     "output_type": "stream",
     "text": [
      "['positive']\n"
     ]
    }
   ],
   "source": [
    "from sklearn.naive_bayes import BernoulliNB\n",
    "from sklearn.feature_extraction.text import CountVectorizer\n",
    "\n",
    "# Load the data\n",
    "data = [\n",
    "    (\"This is a positive sentence\", \"positive\"), \n",
    "    (\"This is a negative sentence\", \"negative\"),\n",
    "    (\"I am happy\", \"positive\"), \n",
    "    (\"I am sad\", \"negative\")\n",
    "]\n",
    "\n",
    "# Extract features from text\n",
    "vectorizer = CountVectorizer(binary=True)\n",
    "X = vectorizer.fit_transform([d[0] for d in data])\n",
    "y = [d[1] for d in data]\n",
    "\n",
    "# Train the model\n",
    "model = BernoulliNB()\n",
    "model.fit(X, y)\n",
    "\n",
    "# Predict the class of a new sentence\n",
    "new_sentence = \"This is a positive sentence\"\n",
    "X_new = vectorizer.transform([new_sentence])\n",
    "predicted_class = model.predict(X_new)\n",
    "\n",
    "print(predicted_class)"
   ]
  },
  {
   "cell_type": "code",
   "execution_count": null,
   "metadata": {},
   "outputs": [],
   "source": []
  },
  {
   "cell_type": "code",
   "execution_count": 3,
   "metadata": {},
   "outputs": [
    {
     "name": "stdout",
     "output_type": "stream",
     "text": [
      "['negative']\n"
     ]
    }
   ],
   "source": [
    "from sklearn.naive_bayes import MultinomialNB\n",
    "from sklearn.feature_extraction.text import CountVectorizer\n",
    "\n",
    "# Load the data\n",
    "data = [(\"This is a positive sentence\", \"positive\"), \n",
    "        (\"This is a negative sentence\", \"negative\"), \n",
    "        (\"I am happy\", \"positive\"), \n",
    "        (\"I am sad\", \"negative\")]\n",
    "\n",
    "# Extract features from text\n",
    "vectorizer = CountVectorizer()\n",
    "X = vectorizer.fit_transform([d[0] for d in data])\n",
    "y = [d[1] for d in data]\n",
    "\n",
    "# Train the model\n",
    "model = MultinomialNB()\n",
    "model.fit(X, y)\n",
    "\n",
    "# Predict the class of a new sentence\n",
    "new_sentence = \"This is a negative sentence\"\n",
    "X_new = vectorizer.transform([new_sentence])\n",
    "predicted_class = model.predict(X_new)\n",
    "\n",
    "print(predicted_class)"
   ]
  }
 ],
 "metadata": {
  "kernelspec": {
   "display_name": "Python 3",
   "language": "python",
   "name": "python3"
  },
  "language_info": {
   "codemirror_mode": {
    "name": "ipython",
    "version": 3
   },
   "file_extension": ".py",
   "mimetype": "text/x-python",
   "name": "python",
   "nbconvert_exporter": "python",
   "pygments_lexer": "ipython3",
   "version": "3.12.7"
  }
 },
 "nbformat": 4,
 "nbformat_minor": 2
}
